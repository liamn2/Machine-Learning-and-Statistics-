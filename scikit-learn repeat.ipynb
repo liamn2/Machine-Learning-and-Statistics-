{
 "cells": [
  {
   "cell_type": "markdown",
   "id": "7384139f",
   "metadata": {},
   "source": [
    "<img style=\"float: right;\" src=\"scikit.png\" width=\"200\">   \n",
    "\n",
    "<span style=\"font-family:Times New Roman; font-size:2em;\"><u><b>Sci-Kit Learn Project</b></u>  \n",
    "  \n",
    "<span style=\"font-family:Times New Roman; font-size:1.5em;\"><b>Name:</b> Liam Nutley  \n",
    "<b>Student ID: </b> G00326421"
   ]
  },
  {
   "cell_type": "markdown",
   "id": "8ec280fd",
   "metadata": {},
   "source": [
    "<span style=\"font-family:Times New Roman; font-size:1.5em;\">Scitkit-learn is a Python library module that builds on other libraries such as NumPy, SciPy and matplotlib to provide simple and efficient tools for predictive data analysis. This end is achieved, based on desired application, by applying the relevant machine-learning algorithm to read input and provide new, predicted data sets. The 6 main categories of data algorithms on Scikit-learn are Classification, Clustering, Regression, Dimensionality reduction, Model selection and Preprocessing.\n",
    "\n",
    "<span style=\"font-family:Times New Roman; font-size:1.5em;\">It features various classification, regression and clustering algorithms including support vector machines, random forests, gradient boosting, k-means and DBSCAN. These algorithms are used to mimic human brain activity in order make educated guesses on the successive output by reading and extrapolating information from the previous input. The idea behind the machine learning process is to create new data that can be used to demonstrate a predictive model for process output. All algorithms within the scikit-learn library are based on probabilistic and statistical mathematical methods, here applied for their predictive purposes. The regression model I will look into below is the linear regression model. For example, the weight of a person is linearly related to their height in general over time. That is, as a person grows taller as they age, their weight increases also. The data used are 2-dimensional arrays of height and weight. The data clearly represents a linear regressing graph as shown in the below code. "
   ]
  },
  {
   "cell_type": "code",
   "execution_count": 4,
   "id": "6378071d",
   "metadata": {},
   "outputs": [
    {
     "name": "stdout",
     "output_type": "stream",
     "text": [
      "[ 2.18362595 -0.13991231]\n",
      "LinearRegression()\n"
     ]
    },
    {
     "data": {
      "text/plain": [
       "[<matplotlib.lines.Line2D at 0x273745ee100>,\n",
       " <matplotlib.lines.Line2D at 0x273745ee130>]"
      ]
     },
     "execution_count": 4,
     "metadata": {},
     "output_type": "execute_result"
    },
    {
     "data": {
      "image/png": "[encoded data removed]",
      "text/plain": [
       "<Figure size 432x288 with 1 Axes>"
      ]
     },
     "metadata": {
      "needs_background": "light"
     },
     "output_type": "display_data"
    }
   ],
   "source": [
    "from sklearn import linear_model\n",
    "import pandas as df\n",
    "import numpy as np\n",
    "import matplotlib\n",
    "import matplotlib.pyplot as plt\n",
    "\n",
    "reg = linear_model.LinearRegression()\n",
    "f = reg.fit([[40, 43],[40, 35],[39, 35], [40, 37],[39, 36],[40, 30],[43, 50],[41, 34],[41, 37],[44, 41],[45, 40],[40, 49],[47, 52],[45, 37],[51, 60],[50, 54],[47, 50],[48, 52],[51, 62],[42, 39],[51, 64],[50, 60],[47, 46],[47, 45],[51, 72],[48, 55],[51, 53],[50, 57],[48, 48],[52, 75],[50, 62],[49, 55],[51, 58],[48, 45],[54, 60],[56, 70],[56, 78],[58, 89],[60, 88],[61,104],[59, 89],[59, 84],[58, 81],[55, 80],[58, 80],[64, 90],[59, 90],[64,113],[64,130],[70,143]],[0, 1, 2, 3, 4, 5, 6, 7, 8, 9, 10, 11, 12, 13, 14, 15, 16, 17, 18, 19, 20, 21, 22, 23, 24, 25, 26, 27, 28, 29, 30, 31, 32, 33, 34, 35, 36, 37, 38, 39, 40, 41, 42, 43, 44, 45, 46, 47, 48, 49])\n",
    "g = reg.coef_\n",
    "print(g)\n",
    "print(f)\n",
    "\n",
    "\n",
    "data=([40, 43],[40, 35],[39, 35],[40, 37],[39, 36],[40, 30],[43, 50],[41, 34],[41, 37],[44, 41],[45, 40],[40, 49],[47, 52],[45, 37],[51, 60],[50, 54],[47, 50],[48, 52],[51, 62],[42, 39],[51, 64],[50, 60],[47, 46],[47, 45],[51, 72],[48, 55],[51, 53],[50, 57],[48, 48],[52, 75],[50, 62],[49, 55],[51, 58],[48, 45],[54, 60],[56, 70],[56, 78],[58, 89],[60, 88],[61,104],[59, 89],[59, 84],[58, 81],[55, 80],[58, 80],[64, 90],[59, 90],[64,113],[64,130],[70,143])\n",
    "\n",
    "plt.ax.xlabel('Number of People')\n",
    "plt.ax.legend(['First line', 'Second line'])('Orange'=)\n",
    "plt.plot(data)"
   ]
  },
  {
   "cell_type": "markdown",
   "id": "fa0f9732",
   "metadata": {},
   "source": [
    "<span style=\"font-family:Times New Roman; font-size:1.5em;\">Support vector machines (SVMs) are a set of supervised learning methods used for classification.The advantages of support vector machines are:\n",
    "1.Effective in high dimensional spaces.2.Still effective in cases where number of dimensions is greater than the number of samples.3.Uses a subset of training points in the decision function (called support vectors), so it is also memory efficient.\n",
    "4.Versatile: different Kernel functions can be specified for the decision function. Common kernels are provided, but it is also possible to specify custom kernels."
   ]
  },
  {
   "cell_type": "code",
   "execution_count": 8,
   "id": "4247cc47",
   "metadata": {},
   "outputs": [
    {
     "ename": "ImportError",
     "evalue": "cannot import name 'DecisionBoundaryDisplay' from 'sklearn.inspection' (C:\\Users\\liamn\\Anaconda3\\lib\\site-packages\\sklearn\\inspection\\__init__.py)",
     "output_type": "error",
     "traceback": [
      "\u001b[1;31m---------------------------------------------------------------------------\u001b[0m",
      "\u001b[1;31mImportError\u001b[0m                               Traceback (most recent call last)",
      "\u001b[1;32m~\\AppData\\Local\\Temp/ipykernel_13008/822217800.py\u001b[0m in \u001b[0;36m<module>\u001b[1;34m\u001b[0m\n\u001b[0;32m      1\u001b[0m \u001b[1;32mimport\u001b[0m \u001b[0mmatplotlib\u001b[0m\u001b[1;33m.\u001b[0m\u001b[0mpyplot\u001b[0m \u001b[1;32mas\u001b[0m \u001b[0mplt\u001b[0m\u001b[1;33m\u001b[0m\u001b[1;33m\u001b[0m\u001b[0m\n\u001b[0;32m      2\u001b[0m \u001b[1;32mfrom\u001b[0m \u001b[0msklearn\u001b[0m \u001b[1;32mimport\u001b[0m \u001b[0msvm\u001b[0m\u001b[1;33m,\u001b[0m \u001b[0mdatasets\u001b[0m\u001b[1;33m\u001b[0m\u001b[1;33m\u001b[0m\u001b[0m\n\u001b[1;32m----> 3\u001b[1;33m \u001b[1;32mfrom\u001b[0m \u001b[0msklearn\u001b[0m\u001b[1;33m.\u001b[0m\u001b[0minspection\u001b[0m \u001b[1;32mimport\u001b[0m \u001b[0mDecisionBoundaryDisplay\u001b[0m\u001b[1;33m\u001b[0m\u001b[1;33m\u001b[0m\u001b[0m\n\u001b[0m\u001b[0;32m      4\u001b[0m \u001b[1;33m\u001b[0m\u001b[0m\n\u001b[0;32m      5\u001b[0m \u001b[1;33m\u001b[0m\u001b[0m\n",
      "\u001b[1;31mImportError\u001b[0m: cannot import name 'DecisionBoundaryDisplay' from 'sklearn.inspection' (C:\\Users\\liamn\\Anaconda3\\lib\\site-packages\\sklearn\\inspection\\__init__.py)"
     ]
    }
   ],
   "source": [
    "import matplotlib.pyplot as plt\n",
    "from sklearn import svm, datasets\n",
    "from sklearn.inspection import DecisionBoundaryDisplay\n",
    "\n",
    "\n",
    "# import some data to play with\n",
    "iris = datasets.load_iris()\n",
    "# Take the first two features. We could avoid this by using a two-dim dataset\n",
    "X = iris.data[:, :2]\n",
    "y = iris.target\n",
    "\n",
    "# we create an instance of SVM and fit out data. We do not scale our\n",
    "# data since we want to plot the support vectors\n",
    "C = 1.0  # SVM regularization parameter\n",
    "models = (\n",
    "    svm.SVC(kernel=\"linear\", C=C),\n",
    "    svm.LinearSVC(C=C, max_iter=10000),\n",
    "    svm.SVC(kernel=\"rbf\", gamma=0.7, C=C),\n",
    "    svm.SVC(kernel=\"poly\", degree=3, gamma=\"auto\", C=C),\n",
    ")\n",
    "models = (clf.fit(X, y) for clf in models)\n",
    "\n",
    "# title for the plots\n",
    "titles = (\n",
    "    \"SVC with linear kernel\",\n",
    "    \"LinearSVC (linear kernel)\",\n",
    "    \"SVC with RBF kernel\",\n",
    "    \"SVC with polynomial (degree 3) kernel\",\n",
    ")\n",
    "\n",
    "# Set-up 2x2 grid for plotting.\n",
    "fig, sub = plt.subplots(2, 2)\n",
    "plt.subplots_adjust(wspace=0.4, hspace=0.4)\n",
    "\n",
    "X0, X1 = X[:, 0], X[:, 1]\n",
    "\n",
    "for clf, title, ax in zip(models, titles, sub.flatten()):\n",
    "    disp = DecisionBoundaryDisplay.from_estimator(\n",
    "        clf,\n",
    "        X,\n",
    "        response_method=\"predict\",\n",
    "        cmap=plt.cm.coolwarm,\n",
    "        alpha=0.8,\n",
    "        ax=ax,\n",
    "        xlabel=iris.feature_names[0],\n",
    "        ylabel=iris.feature_names[1],\n",
    "    )\n",
    "    ax.scatter(X0, X1, c=y, cmap=plt.cm.coolwarm, s=20, edgecolors=\"k\")\n",
    "    ax.set_xticks(())\n",
    "    ax.set_yticks(())\n",
    "    ax.set_title(title)\n",
    "\n",
    "plt.show()"
   ]
  },
  {
   "cell_type": "markdown",
   "id": "bcddfca5",
   "metadata": {},
   "source": [
    "<span style=\"font-family:Times New Roman; font-size:1.5em;\">References\n",
    "    \n",
    "<br>Scikit-Learn: Linear Model - https://scikit-learn.org/stable/modules/generated/sklearn.linear_model.LinearRegression.html</br>\n",
    "<br>Scikit-Learn: Regression Index - https://scikit-learn.org/stable/supervised_learning.html#supervised-learning</br>\n",
    "<br>Scikit-Learn: Classification Index - https://scikit-learn.org/stable/supervised_learning.html#supervised-learning</br>"
   ]
  },
  {
   "cell_type": "code",
   "execution_count": null,
   "id": "11c3eaec",
   "metadata": {},
   "outputs": [],
   "source": []
  }
 ],
 "metadata": {
  "kernelspec": {
   "display_name": "Python 3 (ipykernel)",
   "language": "python",
   "name": "python3"
  },
  "language_info": {
   "codemirror_mode": {
    "name": "ipython",
    "version": 3
   },
   "file_extension": ".py",
   "mimetype": "text/x-python",
   "name": "python",
   "nbconvert_exporter": "python",
   "pygments_lexer": "ipython3",
   "version": "3.9.7"
  }
 },
 "nbformat": 4,
 "nbformat_minor": 5
}
